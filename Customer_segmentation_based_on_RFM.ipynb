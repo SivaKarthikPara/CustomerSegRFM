{
  "nbformat": 4,
  "nbformat_minor": 0,
  "metadata": {
    "colab": {
      "name": "Customer segmentation based on RFM",
      "provenance": [],
      "authorship_tag": "ABX9TyOUMLcyUmGcYBFVXwcTB7WF",
      "include_colab_link": true
    },
    "kernelspec": {
      "name": "python3",
      "display_name": "Python 3"
    }
  },
  "cells": [
    {
      "cell_type": "markdown",
      "metadata": {
        "id": "view-in-github",
        "colab_type": "text"
      },
      "source": [
        "<a href=\"https://colab.research.google.com/github/SivaKarthikPara/CustomerSegRFM/blob/master/Customer_segmentation_based_on_RFM.ipynb\" target=\"_parent\"><img src=\"https://colab.research.google.com/assets/colab-badge.svg\" alt=\"Open In Colab\"/></a>"
      ]
    },
    {
      "cell_type": "code",
      "metadata": {
        "id": "kdOVkxx8A0MN"
      },
      "source": [
        "import pandas as pd\n",
        "import datetime as dt\n",
        "import numpy as np\n",
        "import os\n",
        "import matplotlib.pyplot as plt\n",
        "import seaborn as sns\n",
        "\n",
        "from sklearn.cluster import KMeans"
      ],
      "execution_count": 217,
      "outputs": []
    },
    {
      "cell_type": "code",
      "metadata": {
        "id": "BP2oiqsEBBor",
        "outputId": "4aae406f-a737-4239-dcd3-007e2c9e0ba5",
        "colab": {
          "base_uri": "https://localhost:8080/",
          "height": 419
        }
      },
      "source": [
        "df = pd.read_csv('CustomerRFM.csv')\n",
        "df"
      ],
      "execution_count": 219,
      "outputs": [
        {
          "output_type": "execute_result",
          "data": {
            "text/html": [
              "<div>\n",
              "<style scoped>\n",
              "    .dataframe tbody tr th:only-of-type {\n",
              "        vertical-align: middle;\n",
              "    }\n",
              "\n",
              "    .dataframe tbody tr th {\n",
              "        vertical-align: top;\n",
              "    }\n",
              "\n",
              "    .dataframe thead th {\n",
              "        text-align: right;\n",
              "    }\n",
              "</style>\n",
              "<table border=\"1\" class=\"dataframe\">\n",
              "  <thead>\n",
              "    <tr style=\"text-align: right;\">\n",
              "      <th></th>\n",
              "      <th>InvoiceNo</th>\n",
              "      <th>StockCode</th>\n",
              "      <th>Description</th>\n",
              "      <th>Quantity</th>\n",
              "      <th>InvoiceDate</th>\n",
              "      <th>UnitPrice</th>\n",
              "      <th>CustomerID</th>\n",
              "      <th>Country</th>\n",
              "    </tr>\n",
              "  </thead>\n",
              "  <tbody>\n",
              "    <tr>\n",
              "      <th>0</th>\n",
              "      <td>536365</td>\n",
              "      <td>85123A</td>\n",
              "      <td>WHITE HANGING HEART T-LIGHT HOLDER</td>\n",
              "      <td>6</td>\n",
              "      <td>01/12/2010 08:26</td>\n",
              "      <td>2.55</td>\n",
              "      <td>17850</td>\n",
              "      <td>United Kingdom</td>\n",
              "    </tr>\n",
              "    <tr>\n",
              "      <th>1</th>\n",
              "      <td>536365</td>\n",
              "      <td>71053</td>\n",
              "      <td>WHITE METAL LANTERN</td>\n",
              "      <td>6</td>\n",
              "      <td>01/12/2010 08:26</td>\n",
              "      <td>3.39</td>\n",
              "      <td>17850</td>\n",
              "      <td>United Kingdom</td>\n",
              "    </tr>\n",
              "    <tr>\n",
              "      <th>2</th>\n",
              "      <td>536365</td>\n",
              "      <td>84406B</td>\n",
              "      <td>CREAM CUPID HEARTS COAT HANGER</td>\n",
              "      <td>8</td>\n",
              "      <td>01/12/2010 08:26</td>\n",
              "      <td>2.75</td>\n",
              "      <td>17850</td>\n",
              "      <td>United Kingdom</td>\n",
              "    </tr>\n",
              "    <tr>\n",
              "      <th>3</th>\n",
              "      <td>536365</td>\n",
              "      <td>84029G</td>\n",
              "      <td>KNITTED UNION FLAG HOT WATER BOTTLE</td>\n",
              "      <td>6</td>\n",
              "      <td>01/12/2010 08:26</td>\n",
              "      <td>3.39</td>\n",
              "      <td>17850</td>\n",
              "      <td>United Kingdom</td>\n",
              "    </tr>\n",
              "    <tr>\n",
              "      <th>4</th>\n",
              "      <td>536365</td>\n",
              "      <td>84029E</td>\n",
              "      <td>RED WOOLLY HOTTIE WHITE HEART.</td>\n",
              "      <td>6</td>\n",
              "      <td>01/12/2009 08:26</td>\n",
              "      <td>3.39</td>\n",
              "      <td>17850</td>\n",
              "      <td>United Kingdom</td>\n",
              "    </tr>\n",
              "    <tr>\n",
              "      <th>...</th>\n",
              "      <td>...</td>\n",
              "      <td>...</td>\n",
              "      <td>...</td>\n",
              "      <td>...</td>\n",
              "      <td>...</td>\n",
              "      <td>...</td>\n",
              "      <td>...</td>\n",
              "      <td>...</td>\n",
              "    </tr>\n",
              "    <tr>\n",
              "      <th>195</th>\n",
              "      <td>536388</td>\n",
              "      <td>22469</td>\n",
              "      <td>HEART OF WICKER SMALL</td>\n",
              "      <td>12</td>\n",
              "      <td>01/12/2010 09:59</td>\n",
              "      <td>1.65</td>\n",
              "      <td>16250</td>\n",
              "      <td>United Kingdom</td>\n",
              "    </tr>\n",
              "    <tr>\n",
              "      <th>196</th>\n",
              "      <td>536388</td>\n",
              "      <td>22242</td>\n",
              "      <td>5 HOOK HANGER MAGIC TOADSTOOL</td>\n",
              "      <td>12</td>\n",
              "      <td>01/12/2010 09:59</td>\n",
              "      <td>1.65</td>\n",
              "      <td>16250</td>\n",
              "      <td>United Kingdom</td>\n",
              "    </tr>\n",
              "    <tr>\n",
              "      <th>197</th>\n",
              "      <td>536389</td>\n",
              "      <td>22941</td>\n",
              "      <td>CHRISTMAS LIGHTS 10 REINDEER</td>\n",
              "      <td>6</td>\n",
              "      <td>01/12/2010 10:03</td>\n",
              "      <td>8.50</td>\n",
              "      <td>12431</td>\n",
              "      <td>Australia</td>\n",
              "    </tr>\n",
              "    <tr>\n",
              "      <th>198</th>\n",
              "      <td>536389</td>\n",
              "      <td>21622</td>\n",
              "      <td>VINTAGE UNION JACK CUSHION COVER</td>\n",
              "      <td>8</td>\n",
              "      <td>01/12/2010 10:03</td>\n",
              "      <td>4.95</td>\n",
              "      <td>12431</td>\n",
              "      <td>Australia</td>\n",
              "    </tr>\n",
              "    <tr>\n",
              "      <th>199</th>\n",
              "      <td>536389</td>\n",
              "      <td>21791</td>\n",
              "      <td>VINTAGE HEADS AND TAILS CARD GAME</td>\n",
              "      <td>12</td>\n",
              "      <td>01/12/2010 10:03</td>\n",
              "      <td>1.25</td>\n",
              "      <td>12431</td>\n",
              "      <td>Australia</td>\n",
              "    </tr>\n",
              "  </tbody>\n",
              "</table>\n",
              "<p>200 rows × 8 columns</p>\n",
              "</div>"
            ],
            "text/plain": [
              "    InvoiceNo StockCode  ... CustomerID         Country\n",
              "0      536365    85123A  ...      17850  United Kingdom\n",
              "1      536365     71053  ...      17850  United Kingdom\n",
              "2      536365    84406B  ...      17850  United Kingdom\n",
              "3      536365    84029G  ...      17850  United Kingdom\n",
              "4      536365    84029E  ...      17850  United Kingdom\n",
              "..        ...       ...  ...        ...             ...\n",
              "195    536388     22469  ...      16250  United Kingdom\n",
              "196    536388     22242  ...      16250  United Kingdom\n",
              "197    536389     22941  ...      12431       Australia\n",
              "198    536389     21622  ...      12431       Australia\n",
              "199    536389     21791  ...      12431       Australia\n",
              "\n",
              "[200 rows x 8 columns]"
            ]
          },
          "metadata": {
            "tags": []
          },
          "execution_count": 219
        }
      ]
    },
    {
      "cell_type": "code",
      "metadata": {
        "id": "meE78PsTBhbZ"
      },
      "source": [
        "#find the coutry in which each of the customer has made purchase\n",
        "customer_country=df[['Country','CustomerID']].drop_duplicates()\n",
        "customer_country\n",
        "#remove null values\n",
        "df = df[pd.notnull(df['CustomerID'])]\n",
        "#removes negative values\n",
        "df.Quantity.min()\n",
        "df = df[(df['Quantity']>0)]\n",
        "df.Quantity.min()\n",
        "#computes totalprice for monetary calculation\n",
        "df['TotalPrice'] = df['Quantity'] * df['UnitPrice']\n",
        "NOW = dt.datetime(2011,9,10)\n",
        "#changing date format\n",
        "df['InvoiceDate'] = pd.to_datetime(df['InvoiceDate'])"
      ],
      "execution_count": 220,
      "outputs": []
    },
    {
      "cell_type": "code",
      "metadata": {
        "id": "LJU0c_nLr7Di"
      },
      "source": [
        "# from google.colab import drive\n",
        "# drive.mount('/content/drive')\n",
        "# dc = df.groupby('CustomerID')\n",
        "# dc.first()"
      ],
      "execution_count": 181,
      "outputs": []
    },
    {
      "cell_type": "code",
      "metadata": {
        "id": "EUdE9GblBqz3",
        "outputId": "bf077a93-39ff-43be-8eee-8ecb133da5da",
        "colab": {
          "base_uri": "https://localhost:8080/",
          "height": 545
        }
      },
      "source": [
        "##calculate the recency, frequency and monetary_value\n",
        "\n",
        "rfmTable=df.groupby('CustomerID').agg({'InvoiceDate': lambda x: (NOW - x.max()).days, 'InvoiceNo': lambda x: len(x), 'TotalPrice': lambda x: x.sum()})\n",
        "\n",
        "##Renaming columns\n",
        "\n",
        "rfmTable.rename(columns={'InvoiceDate': 'recency', \n",
        "                         'InvoiceNo': 'frequency', \n",
        "                         'TotalPrice': 'monetary_value'}, inplace=True)\n",
        "rfmTable\n"
      ],
      "execution_count": 221,
      "outputs": [
        {
          "output_type": "execute_result",
          "data": {
            "text/html": [
              "<div>\n",
              "<style scoped>\n",
              "    .dataframe tbody tr th:only-of-type {\n",
              "        vertical-align: middle;\n",
              "    }\n",
              "\n",
              "    .dataframe tbody tr th {\n",
              "        vertical-align: top;\n",
              "    }\n",
              "\n",
              "    .dataframe thead th {\n",
              "        text-align: right;\n",
              "    }\n",
              "</style>\n",
              "<table border=\"1\" class=\"dataframe\">\n",
              "  <thead>\n",
              "    <tr style=\"text-align: right;\">\n",
              "      <th></th>\n",
              "      <th>recency</th>\n",
              "      <th>frequency</th>\n",
              "      <th>monetary_value</th>\n",
              "    </tr>\n",
              "    <tr>\n",
              "      <th>CustomerID</th>\n",
              "      <th></th>\n",
              "      <th></th>\n",
              "      <th></th>\n",
              "    </tr>\n",
              "  </thead>\n",
              "  <tbody>\n",
              "    <tr>\n",
              "      <th>12431</th>\n",
              "      <td>605</td>\n",
              "      <td>3</td>\n",
              "      <td>105.60</td>\n",
              "    </tr>\n",
              "    <tr>\n",
              "      <th>12583</th>\n",
              "      <td>605</td>\n",
              "      <td>20</td>\n",
              "      <td>855.86</td>\n",
              "    </tr>\n",
              "    <tr>\n",
              "      <th>13047</th>\n",
              "      <td>605</td>\n",
              "      <td>17</td>\n",
              "      <td>366.63</td>\n",
              "    </tr>\n",
              "    <tr>\n",
              "      <th>13748</th>\n",
              "      <td>605</td>\n",
              "      <td>1</td>\n",
              "      <td>204.00</td>\n",
              "    </tr>\n",
              "    <tr>\n",
              "      <th>14688</th>\n",
              "      <td>616</td>\n",
              "      <td>19</td>\n",
              "      <td>444.98</td>\n",
              "    </tr>\n",
              "    <tr>\n",
              "      <th>15100</th>\n",
              "      <td>605</td>\n",
              "      <td>1</td>\n",
              "      <td>350.40</td>\n",
              "    </tr>\n",
              "    <tr>\n",
              "      <th>15291</th>\n",
              "      <td>605</td>\n",
              "      <td>2</td>\n",
              "      <td>328.80</td>\n",
              "    </tr>\n",
              "    <tr>\n",
              "      <th>15311</th>\n",
              "      <td>605</td>\n",
              "      <td>35</td>\n",
              "      <td>449.98</td>\n",
              "    </tr>\n",
              "    <tr>\n",
              "      <th>16029</th>\n",
              "      <td>605</td>\n",
              "      <td>8</td>\n",
              "      <td>3702.12</td>\n",
              "    </tr>\n",
              "    <tr>\n",
              "      <th>16098</th>\n",
              "      <td>605</td>\n",
              "      <td>12</td>\n",
              "      <td>430.60</td>\n",
              "    </tr>\n",
              "    <tr>\n",
              "      <th>16250</th>\n",
              "      <td>605</td>\n",
              "      <td>14</td>\n",
              "      <td>226.14</td>\n",
              "    </tr>\n",
              "    <tr>\n",
              "      <th>17420</th>\n",
              "      <td>605</td>\n",
              "      <td>7</td>\n",
              "      <td>130.85</td>\n",
              "    </tr>\n",
              "    <tr>\n",
              "      <th>17809</th>\n",
              "      <td>616</td>\n",
              "      <td>1</td>\n",
              "      <td>34.80</td>\n",
              "    </tr>\n",
              "    <tr>\n",
              "      <th>17850</th>\n",
              "      <td>605</td>\n",
              "      <td>45</td>\n",
              "      <td>725.44</td>\n",
              "    </tr>\n",
              "    <tr>\n",
              "      <th>18074</th>\n",
              "      <td>605</td>\n",
              "      <td>13</td>\n",
              "      <td>489.60</td>\n",
              "    </tr>\n",
              "  </tbody>\n",
              "</table>\n",
              "</div>"
            ],
            "text/plain": [
              "            recency  frequency  monetary_value\n",
              "CustomerID                                    \n",
              "12431           605          3          105.60\n",
              "12583           605         20          855.86\n",
              "13047           605         17          366.63\n",
              "13748           605          1          204.00\n",
              "14688           616         19          444.98\n",
              "15100           605          1          350.40\n",
              "15291           605          2          328.80\n",
              "15311           605         35          449.98\n",
              "16029           605          8         3702.12\n",
              "16098           605         12          430.60\n",
              "16250           605         14          226.14\n",
              "17420           605          7          130.85\n",
              "17809           616          1           34.80\n",
              "17850           605         45          725.44\n",
              "18074           605         13          489.60"
            ]
          },
          "metadata": {
            "tags": []
          },
          "execution_count": 221
        }
      ]
    },
    {
      "cell_type": "code",
      "metadata": {
        "id": "Yam17dGQB0Zl",
        "outputId": "2d91951e-3358-4a13-ebd7-0316766a7e70",
        "colab": {
          "base_uri": "https://localhost:8080/",
          "height": 545
        }
      },
      "source": [
        "\n",
        "rfmTable['recency'] = rfmTable['recency'].astype(int)\n",
        "quantiles = rfmTable.quantile(q=[0.25,0.5,0.75])\n",
        "quantiles = quantiles.to_dict()\n",
        "segmented_rfm = rfmTable\n",
        "segmented_rfm \n",
        "# quantiles\n"
      ],
      "execution_count": 222,
      "outputs": [
        {
          "output_type": "execute_result",
          "data": {
            "text/html": [
              "<div>\n",
              "<style scoped>\n",
              "    .dataframe tbody tr th:only-of-type {\n",
              "        vertical-align: middle;\n",
              "    }\n",
              "\n",
              "    .dataframe tbody tr th {\n",
              "        vertical-align: top;\n",
              "    }\n",
              "\n",
              "    .dataframe thead th {\n",
              "        text-align: right;\n",
              "    }\n",
              "</style>\n",
              "<table border=\"1\" class=\"dataframe\">\n",
              "  <thead>\n",
              "    <tr style=\"text-align: right;\">\n",
              "      <th></th>\n",
              "      <th>recency</th>\n",
              "      <th>frequency</th>\n",
              "      <th>monetary_value</th>\n",
              "    </tr>\n",
              "    <tr>\n",
              "      <th>CustomerID</th>\n",
              "      <th></th>\n",
              "      <th></th>\n",
              "      <th></th>\n",
              "    </tr>\n",
              "  </thead>\n",
              "  <tbody>\n",
              "    <tr>\n",
              "      <th>12431</th>\n",
              "      <td>605</td>\n",
              "      <td>3</td>\n",
              "      <td>105.60</td>\n",
              "    </tr>\n",
              "    <tr>\n",
              "      <th>12583</th>\n",
              "      <td>605</td>\n",
              "      <td>20</td>\n",
              "      <td>855.86</td>\n",
              "    </tr>\n",
              "    <tr>\n",
              "      <th>13047</th>\n",
              "      <td>605</td>\n",
              "      <td>17</td>\n",
              "      <td>366.63</td>\n",
              "    </tr>\n",
              "    <tr>\n",
              "      <th>13748</th>\n",
              "      <td>605</td>\n",
              "      <td>1</td>\n",
              "      <td>204.00</td>\n",
              "    </tr>\n",
              "    <tr>\n",
              "      <th>14688</th>\n",
              "      <td>616</td>\n",
              "      <td>19</td>\n",
              "      <td>444.98</td>\n",
              "    </tr>\n",
              "    <tr>\n",
              "      <th>15100</th>\n",
              "      <td>605</td>\n",
              "      <td>1</td>\n",
              "      <td>350.40</td>\n",
              "    </tr>\n",
              "    <tr>\n",
              "      <th>15291</th>\n",
              "      <td>605</td>\n",
              "      <td>2</td>\n",
              "      <td>328.80</td>\n",
              "    </tr>\n",
              "    <tr>\n",
              "      <th>15311</th>\n",
              "      <td>605</td>\n",
              "      <td>35</td>\n",
              "      <td>449.98</td>\n",
              "    </tr>\n",
              "    <tr>\n",
              "      <th>16029</th>\n",
              "      <td>605</td>\n",
              "      <td>8</td>\n",
              "      <td>3702.12</td>\n",
              "    </tr>\n",
              "    <tr>\n",
              "      <th>16098</th>\n",
              "      <td>605</td>\n",
              "      <td>12</td>\n",
              "      <td>430.60</td>\n",
              "    </tr>\n",
              "    <tr>\n",
              "      <th>16250</th>\n",
              "      <td>605</td>\n",
              "      <td>14</td>\n",
              "      <td>226.14</td>\n",
              "    </tr>\n",
              "    <tr>\n",
              "      <th>17420</th>\n",
              "      <td>605</td>\n",
              "      <td>7</td>\n",
              "      <td>130.85</td>\n",
              "    </tr>\n",
              "    <tr>\n",
              "      <th>17809</th>\n",
              "      <td>616</td>\n",
              "      <td>1</td>\n",
              "      <td>34.80</td>\n",
              "    </tr>\n",
              "    <tr>\n",
              "      <th>17850</th>\n",
              "      <td>605</td>\n",
              "      <td>45</td>\n",
              "      <td>725.44</td>\n",
              "    </tr>\n",
              "    <tr>\n",
              "      <th>18074</th>\n",
              "      <td>605</td>\n",
              "      <td>13</td>\n",
              "      <td>489.60</td>\n",
              "    </tr>\n",
              "  </tbody>\n",
              "</table>\n",
              "</div>"
            ],
            "text/plain": [
              "            recency  frequency  monetary_value\n",
              "CustomerID                                    \n",
              "12431           605          3          105.60\n",
              "12583           605         20          855.86\n",
              "13047           605         17          366.63\n",
              "13748           605          1          204.00\n",
              "14688           616         19          444.98\n",
              "15100           605          1          350.40\n",
              "15291           605          2          328.80\n",
              "15311           605         35          449.98\n",
              "16029           605          8         3702.12\n",
              "16098           605         12          430.60\n",
              "16250           605         14          226.14\n",
              "17420           605          7          130.85\n",
              "17809           616          1           34.80\n",
              "17850           605         45          725.44\n",
              "18074           605         13          489.60"
            ]
          },
          "metadata": {
            "tags": []
          },
          "execution_count": 222
        }
      ]
    },
    {
      "cell_type": "code",
      "metadata": {
        "id": "XINmCt31B6Df"
      },
      "source": [
        "def RScore(x,p,d):\n",
        "    if x <= d[p][0.25]:\n",
        "        return 1\n",
        "    elif x <= d[p][0.50]:\n",
        "        return 2\n",
        "    elif x <= d[p][0.75]: \n",
        "        return 3\n",
        "    else:\n",
        "        return 4"
      ],
      "execution_count": 223,
      "outputs": []
    },
    {
      "cell_type": "code",
      "metadata": {
        "id": "b8ytKbdpCAsI"
      },
      "source": [
        "def FMScore(x,p,d):\n",
        "    if x <= d[p][0.25]:\n",
        "        return 4\n",
        "    elif x <= d[p][0.50]:\n",
        "        return 3\n",
        "    elif x <= d[p][0.75]: \n",
        "        return 2\n",
        "    else:\n",
        "        return 1"
      ],
      "execution_count": 224,
      "outputs": []
    },
    {
      "cell_type": "code",
      "metadata": {
        "id": "MTR0vv_7CF_c"
      },
      "source": [
        "#R score calculation\n",
        "\n",
        "segmented_rfm['r_quartile'] = segmented_rfm['recency'].apply(RScore, args=('recency',quantiles,))\n",
        "# F Score calculation\n",
        "segmented_rfm['f_quartile'] = segmented_rfm['frequency'].apply(FMScore, args=('frequency',quantiles,))\n",
        "#M score calculation\n",
        "segmented_rfm['m_quartile'] = segmented_rfm['monetary_value'].apply(FMScore, args=('monetary_value',quantiles,))\n",
        "\n",
        "\n",
        "# R= np.asarray(segmented_rfm[['r_quartile']])\n",
        "# R_mean=np.mean(R);\n",
        "# F= np.asarray(segmented_rfm[['f_quartile']])\n",
        "# F_mean=np.mean(F);\n",
        "# M= np.asarray(segmented_rfm[['m_quartile']])\n",
        "# M_mean=np.mean(M);\n",
        "# final=R_mean+F_mean+M_mean\n",
        "# with open('output1.txt', 'w') as file:\n",
        "#     file.write(str(final))"
      ],
      "execution_count": 225,
      "outputs": []
    },
    {
      "cell_type": "code",
      "metadata": {
        "id": "mrwjOCMSCO7p",
        "outputId": "54cd5cd7-6165-495d-f970-e32199954a0f",
        "colab": {
          "base_uri": "https://localhost:8080/",
          "height": 545
        }
      },
      "source": [
        "#combine RFM score\n",
        " \n",
        "segmented_rfm['RFMScore'] = segmented_rfm.r_quartile.map(str)+ segmented_rfm.f_quartile.map(str)+ segmented_rfm.m_quartile.map(str)\n",
        " \n",
        "segmented_rfm.head()\n",
        "\n",
        "segmented_rfm"
      ],
      "execution_count": 226,
      "outputs": [
        {
          "output_type": "execute_result",
          "data": {
            "text/html": [
              "<div>\n",
              "<style scoped>\n",
              "    .dataframe tbody tr th:only-of-type {\n",
              "        vertical-align: middle;\n",
              "    }\n",
              "\n",
              "    .dataframe tbody tr th {\n",
              "        vertical-align: top;\n",
              "    }\n",
              "\n",
              "    .dataframe thead th {\n",
              "        text-align: right;\n",
              "    }\n",
              "</style>\n",
              "<table border=\"1\" class=\"dataframe\">\n",
              "  <thead>\n",
              "    <tr style=\"text-align: right;\">\n",
              "      <th></th>\n",
              "      <th>recency</th>\n",
              "      <th>frequency</th>\n",
              "      <th>monetary_value</th>\n",
              "      <th>r_quartile</th>\n",
              "      <th>f_quartile</th>\n",
              "      <th>m_quartile</th>\n",
              "      <th>RFMScore</th>\n",
              "    </tr>\n",
              "    <tr>\n",
              "      <th>CustomerID</th>\n",
              "      <th></th>\n",
              "      <th></th>\n",
              "      <th></th>\n",
              "      <th></th>\n",
              "      <th></th>\n",
              "      <th></th>\n",
              "      <th></th>\n",
              "    </tr>\n",
              "  </thead>\n",
              "  <tbody>\n",
              "    <tr>\n",
              "      <th>12431</th>\n",
              "      <td>605</td>\n",
              "      <td>3</td>\n",
              "      <td>105.60</td>\n",
              "      <td>1</td>\n",
              "      <td>3</td>\n",
              "      <td>4</td>\n",
              "      <td>134</td>\n",
              "    </tr>\n",
              "    <tr>\n",
              "      <th>12583</th>\n",
              "      <td>605</td>\n",
              "      <td>20</td>\n",
              "      <td>855.86</td>\n",
              "      <td>1</td>\n",
              "      <td>1</td>\n",
              "      <td>1</td>\n",
              "      <td>111</td>\n",
              "    </tr>\n",
              "    <tr>\n",
              "      <th>13047</th>\n",
              "      <td>605</td>\n",
              "      <td>17</td>\n",
              "      <td>366.63</td>\n",
              "      <td>1</td>\n",
              "      <td>2</td>\n",
              "      <td>3</td>\n",
              "      <td>123</td>\n",
              "    </tr>\n",
              "    <tr>\n",
              "      <th>13748</th>\n",
              "      <td>605</td>\n",
              "      <td>1</td>\n",
              "      <td>204.00</td>\n",
              "      <td>1</td>\n",
              "      <td>4</td>\n",
              "      <td>4</td>\n",
              "      <td>144</td>\n",
              "    </tr>\n",
              "    <tr>\n",
              "      <th>14688</th>\n",
              "      <td>616</td>\n",
              "      <td>19</td>\n",
              "      <td>444.98</td>\n",
              "      <td>4</td>\n",
              "      <td>1</td>\n",
              "      <td>2</td>\n",
              "      <td>412</td>\n",
              "    </tr>\n",
              "    <tr>\n",
              "      <th>15100</th>\n",
              "      <td>605</td>\n",
              "      <td>1</td>\n",
              "      <td>350.40</td>\n",
              "      <td>1</td>\n",
              "      <td>4</td>\n",
              "      <td>3</td>\n",
              "      <td>143</td>\n",
              "    </tr>\n",
              "    <tr>\n",
              "      <th>15291</th>\n",
              "      <td>605</td>\n",
              "      <td>2</td>\n",
              "      <td>328.80</td>\n",
              "      <td>1</td>\n",
              "      <td>4</td>\n",
              "      <td>3</td>\n",
              "      <td>143</td>\n",
              "    </tr>\n",
              "    <tr>\n",
              "      <th>15311</th>\n",
              "      <td>605</td>\n",
              "      <td>35</td>\n",
              "      <td>449.98</td>\n",
              "      <td>1</td>\n",
              "      <td>1</td>\n",
              "      <td>2</td>\n",
              "      <td>112</td>\n",
              "    </tr>\n",
              "    <tr>\n",
              "      <th>16029</th>\n",
              "      <td>605</td>\n",
              "      <td>8</td>\n",
              "      <td>3702.12</td>\n",
              "      <td>1</td>\n",
              "      <td>3</td>\n",
              "      <td>1</td>\n",
              "      <td>131</td>\n",
              "    </tr>\n",
              "    <tr>\n",
              "      <th>16098</th>\n",
              "      <td>605</td>\n",
              "      <td>12</td>\n",
              "      <td>430.60</td>\n",
              "      <td>1</td>\n",
              "      <td>3</td>\n",
              "      <td>2</td>\n",
              "      <td>132</td>\n",
              "    </tr>\n",
              "    <tr>\n",
              "      <th>16250</th>\n",
              "      <td>605</td>\n",
              "      <td>14</td>\n",
              "      <td>226.14</td>\n",
              "      <td>1</td>\n",
              "      <td>2</td>\n",
              "      <td>3</td>\n",
              "      <td>123</td>\n",
              "    </tr>\n",
              "    <tr>\n",
              "      <th>17420</th>\n",
              "      <td>605</td>\n",
              "      <td>7</td>\n",
              "      <td>130.85</td>\n",
              "      <td>1</td>\n",
              "      <td>3</td>\n",
              "      <td>4</td>\n",
              "      <td>134</td>\n",
              "    </tr>\n",
              "    <tr>\n",
              "      <th>17809</th>\n",
              "      <td>616</td>\n",
              "      <td>1</td>\n",
              "      <td>34.80</td>\n",
              "      <td>4</td>\n",
              "      <td>4</td>\n",
              "      <td>4</td>\n",
              "      <td>444</td>\n",
              "    </tr>\n",
              "    <tr>\n",
              "      <th>17850</th>\n",
              "      <td>605</td>\n",
              "      <td>45</td>\n",
              "      <td>725.44</td>\n",
              "      <td>1</td>\n",
              "      <td>1</td>\n",
              "      <td>1</td>\n",
              "      <td>111</td>\n",
              "    </tr>\n",
              "    <tr>\n",
              "      <th>18074</th>\n",
              "      <td>605</td>\n",
              "      <td>13</td>\n",
              "      <td>489.60</td>\n",
              "      <td>1</td>\n",
              "      <td>2</td>\n",
              "      <td>1</td>\n",
              "      <td>121</td>\n",
              "    </tr>\n",
              "  </tbody>\n",
              "</table>\n",
              "</div>"
            ],
            "text/plain": [
              "            recency  frequency  monetary_value  ...  f_quartile  m_quartile  RFMScore\n",
              "CustomerID                                      ...                                  \n",
              "12431           605          3          105.60  ...           3           4       134\n",
              "12583           605         20          855.86  ...           1           1       111\n",
              "13047           605         17          366.63  ...           2           3       123\n",
              "13748           605          1          204.00  ...           4           4       144\n",
              "14688           616         19          444.98  ...           1           2       412\n",
              "15100           605          1          350.40  ...           4           3       143\n",
              "15291           605          2          328.80  ...           4           3       143\n",
              "15311           605         35          449.98  ...           1           2       112\n",
              "16029           605          8         3702.12  ...           3           1       131\n",
              "16098           605         12          430.60  ...           3           2       132\n",
              "16250           605         14          226.14  ...           2           3       123\n",
              "17420           605          7          130.85  ...           3           4       134\n",
              "17809           616          1           34.80  ...           4           4       444\n",
              "17850           605         45          725.44  ...           1           1       111\n",
              "18074           605         13          489.60  ...           2           1       121\n",
              "\n",
              "[15 rows x 7 columns]"
            ]
          },
          "metadata": {
            "tags": []
          },
          "execution_count": 226
        }
      ]
    },
    {
      "cell_type": "code",
      "metadata": {
        "id": "cU66PoFxtZnm",
        "outputId": "e8b9bb2d-5aa0-471f-91be-cf2048f6d0f9",
        "colab": {
          "base_uri": "https://localhost:8080/",
          "height": 142
        }
      },
      "source": [
        "segmented_rfm[segmented_rfm['RFMScore']=='111'].sort_values('monetary_value', ascending=False).head(10)"
      ],
      "execution_count": 227,
      "outputs": [
        {
          "output_type": "execute_result",
          "data": {
            "text/html": [
              "<div>\n",
              "<style scoped>\n",
              "    .dataframe tbody tr th:only-of-type {\n",
              "        vertical-align: middle;\n",
              "    }\n",
              "\n",
              "    .dataframe tbody tr th {\n",
              "        vertical-align: top;\n",
              "    }\n",
              "\n",
              "    .dataframe thead th {\n",
              "        text-align: right;\n",
              "    }\n",
              "</style>\n",
              "<table border=\"1\" class=\"dataframe\">\n",
              "  <thead>\n",
              "    <tr style=\"text-align: right;\">\n",
              "      <th></th>\n",
              "      <th>recency</th>\n",
              "      <th>frequency</th>\n",
              "      <th>monetary_value</th>\n",
              "      <th>r_quartile</th>\n",
              "      <th>f_quartile</th>\n",
              "      <th>m_quartile</th>\n",
              "      <th>RFMScore</th>\n",
              "    </tr>\n",
              "    <tr>\n",
              "      <th>CustomerID</th>\n",
              "      <th></th>\n",
              "      <th></th>\n",
              "      <th></th>\n",
              "      <th></th>\n",
              "      <th></th>\n",
              "      <th></th>\n",
              "      <th></th>\n",
              "    </tr>\n",
              "  </thead>\n",
              "  <tbody>\n",
              "    <tr>\n",
              "      <th>12583</th>\n",
              "      <td>605</td>\n",
              "      <td>20</td>\n",
              "      <td>855.86</td>\n",
              "      <td>1</td>\n",
              "      <td>1</td>\n",
              "      <td>1</td>\n",
              "      <td>111</td>\n",
              "    </tr>\n",
              "    <tr>\n",
              "      <th>17850</th>\n",
              "      <td>605</td>\n",
              "      <td>45</td>\n",
              "      <td>725.44</td>\n",
              "      <td>1</td>\n",
              "      <td>1</td>\n",
              "      <td>1</td>\n",
              "      <td>111</td>\n",
              "    </tr>\n",
              "  </tbody>\n",
              "</table>\n",
              "</div>"
            ],
            "text/plain": [
              "            recency  frequency  monetary_value  ...  f_quartile  m_quartile  RFMScore\n",
              "CustomerID                                      ...                                  \n",
              "12583           605         20          855.86  ...           1           1       111\n",
              "17850           605         45          725.44  ...           1           1       111\n",
              "\n",
              "[2 rows x 7 columns]"
            ]
          },
          "metadata": {
            "tags": []
          },
          "execution_count": 227
        }
      ]
    },
    {
      "cell_type": "code",
      "metadata": {
        "id": "W1_fLhqt_FJz",
        "outputId": "5d2c3524-f74e-4619-807b-1d0e0226e21d",
        "colab": {
          "base_uri": "https://localhost:8080/",
          "height": 68
        }
      },
      "source": [
        "\n",
        "kmeans = KMeans(n_clusters=3, max_iter=5)\n",
        "kmeans.fit(segmented_rfm)"
      ],
      "execution_count": 228,
      "outputs": [
        {
          "output_type": "execute_result",
          "data": {
            "text/plain": [
              "KMeans(algorithm='auto', copy_x=True, init='k-means++', max_iter=5,\n",
              "       n_clusters=3, n_init=10, n_jobs=None, precompute_distances='auto',\n",
              "       random_state=None, tol=0.0001, verbose=0)"
            ]
          },
          "metadata": {
            "tags": []
          },
          "execution_count": 228
        }
      ]
    },
    {
      "cell_type": "code",
      "metadata": {
        "id": "UBKJj6xN_6TX",
        "outputId": "eb1ce0ce-20dd-4341-b30a-a913cb5e18ea",
        "colab": {
          "base_uri": "https://localhost:8080/",
          "height": 34
        }
      },
      "source": [
        "kmeans.labels_"
      ],
      "execution_count": 229,
      "outputs": [
        {
          "output_type": "execute_result",
          "data": {
            "text/plain": [
              "array([0, 2, 0, 0, 0, 0, 0, 0, 1, 0, 0, 0, 0, 2, 0], dtype=int32)"
            ]
          },
          "metadata": {
            "tags": []
          },
          "execution_count": 229
        }
      ]
    },
    {
      "cell_type": "code",
      "metadata": {
        "id": "kbGLu_9kABti"
      },
      "source": [
        "\n",
        "# ssd = []\n",
        "# range_n_clusters = [2, 3, 4, 5, 6, 7, 8]\n",
        "# for num_clusters in range_n_clusters:\n",
        "#     kmeans = KMeans(n_clusters=num_clusters, max_iter=50)\n",
        "#     kmeans.fit(segmented_rfm)\n",
        "    \n",
        "#     ssd.append(kmeans.inertia_)\n",
        "    \n",
        "# # plot the SSDs for each n_clusters\n",
        "# plt.plot(ssd)"
      ],
      "execution_count": null,
      "outputs": []
    },
    {
      "cell_type": "code",
      "metadata": {
        "id": "kE67DYuoEW-4"
      },
      "source": [
        "# Outlier Analysis of Amount Frequency and Recency\n",
        "\n",
        "# attributes = ['recency','frequency','monetary_value']\n",
        "# plt.rcParams['figure.figsize'] = [5,5]\n",
        "# sns.boxplot(data = segmented_rfm[attributes], orient=\"v\", palette=\"Set2\" ,whis=1.5,saturation=1, width=0.7)\n",
        "# plt.title(\"Outliers Variable Distribution\", fontsize = 14, fontweight = 'bold')\n",
        "# plt.ylabel(\"Range\")\n",
        "# plt.xlabel(\"RFM\")"
      ],
      "execution_count": 144,
      "outputs": []
    },
    {
      "cell_type": "code",
      "metadata": {
        "id": "Tr64ApsTOSiN"
      },
      "source": [
        "# X=segmented_rfm.iloc[:,[0,1,2]].values\n",
        "# X"
      ],
      "execution_count": 206,
      "outputs": []
    },
    {
      "cell_type": "code",
      "metadata": {
        "id": "eN_d2scdXY8P"
      },
      "source": [
        "# ##Fitting kmeans to the dataset with K=4\n",
        "# km4=KMeans(n_clusters=4,init='k-means++', max_iter=300, n_init=10, random_state=0)\n",
        "# y_means = km4.fit_predict(X)"
      ],
      "execution_count": 205,
      "outputs": []
    },
    {
      "cell_type": "code",
      "metadata": {
        "id": "oq_ttQLQXlPG"
      },
      "source": [
        "# #Visualizing the clusters for k=4\n",
        "# plt.scatter(X[y_means==0,0],X[y_means==0,1],s=50, c='purple',label='Cluster1')\n",
        "# plt.scatter(X[y_means==1,0],X[y_means==1,1],s=50, c='blue',label='Cluster2')\n",
        "# plt.scatter(X[y_means==2,0],X[y_means==2,1],s=50, c='green',label='Cluster3')\n",
        "# plt.scatter(X[y_means==3,0],X[y_means==3,1],s=50, c='cyan',label='Cluster4')"
      ],
      "execution_count": 204,
      "outputs": []
    },
    {
      "cell_type": "code",
      "metadata": {
        "id": "JjISob3ukCFH",
        "outputId": "5e82557c-4d5d-44bf-b0dc-63a357449ca5",
        "colab": {
          "base_uri": "https://localhost:8080/",
          "height": 545
        }
      },
      "source": [
        "# assign the label\n",
        "segmented_rfm['Cluster_Id'] = kmeans.labels_\n",
        "segmented_rfm.head(100)"
      ],
      "execution_count": 230,
      "outputs": [
        {
          "output_type": "execute_result",
          "data": {
            "text/html": [
              "<div>\n",
              "<style scoped>\n",
              "    .dataframe tbody tr th:only-of-type {\n",
              "        vertical-align: middle;\n",
              "    }\n",
              "\n",
              "    .dataframe tbody tr th {\n",
              "        vertical-align: top;\n",
              "    }\n",
              "\n",
              "    .dataframe thead th {\n",
              "        text-align: right;\n",
              "    }\n",
              "</style>\n",
              "<table border=\"1\" class=\"dataframe\">\n",
              "  <thead>\n",
              "    <tr style=\"text-align: right;\">\n",
              "      <th></th>\n",
              "      <th>recency</th>\n",
              "      <th>frequency</th>\n",
              "      <th>monetary_value</th>\n",
              "      <th>r_quartile</th>\n",
              "      <th>f_quartile</th>\n",
              "      <th>m_quartile</th>\n",
              "      <th>RFMScore</th>\n",
              "      <th>Cluster_Id</th>\n",
              "    </tr>\n",
              "    <tr>\n",
              "      <th>CustomerID</th>\n",
              "      <th></th>\n",
              "      <th></th>\n",
              "      <th></th>\n",
              "      <th></th>\n",
              "      <th></th>\n",
              "      <th></th>\n",
              "      <th></th>\n",
              "      <th></th>\n",
              "    </tr>\n",
              "  </thead>\n",
              "  <tbody>\n",
              "    <tr>\n",
              "      <th>12431</th>\n",
              "      <td>605</td>\n",
              "      <td>3</td>\n",
              "      <td>105.60</td>\n",
              "      <td>1</td>\n",
              "      <td>3</td>\n",
              "      <td>4</td>\n",
              "      <td>134</td>\n",
              "      <td>0</td>\n",
              "    </tr>\n",
              "    <tr>\n",
              "      <th>12583</th>\n",
              "      <td>605</td>\n",
              "      <td>20</td>\n",
              "      <td>855.86</td>\n",
              "      <td>1</td>\n",
              "      <td>1</td>\n",
              "      <td>1</td>\n",
              "      <td>111</td>\n",
              "      <td>2</td>\n",
              "    </tr>\n",
              "    <tr>\n",
              "      <th>13047</th>\n",
              "      <td>605</td>\n",
              "      <td>17</td>\n",
              "      <td>366.63</td>\n",
              "      <td>1</td>\n",
              "      <td>2</td>\n",
              "      <td>3</td>\n",
              "      <td>123</td>\n",
              "      <td>0</td>\n",
              "    </tr>\n",
              "    <tr>\n",
              "      <th>13748</th>\n",
              "      <td>605</td>\n",
              "      <td>1</td>\n",
              "      <td>204.00</td>\n",
              "      <td>1</td>\n",
              "      <td>4</td>\n",
              "      <td>4</td>\n",
              "      <td>144</td>\n",
              "      <td>0</td>\n",
              "    </tr>\n",
              "    <tr>\n",
              "      <th>14688</th>\n",
              "      <td>616</td>\n",
              "      <td>19</td>\n",
              "      <td>444.98</td>\n",
              "      <td>4</td>\n",
              "      <td>1</td>\n",
              "      <td>2</td>\n",
              "      <td>412</td>\n",
              "      <td>0</td>\n",
              "    </tr>\n",
              "    <tr>\n",
              "      <th>15100</th>\n",
              "      <td>605</td>\n",
              "      <td>1</td>\n",
              "      <td>350.40</td>\n",
              "      <td>1</td>\n",
              "      <td>4</td>\n",
              "      <td>3</td>\n",
              "      <td>143</td>\n",
              "      <td>0</td>\n",
              "    </tr>\n",
              "    <tr>\n",
              "      <th>15291</th>\n",
              "      <td>605</td>\n",
              "      <td>2</td>\n",
              "      <td>328.80</td>\n",
              "      <td>1</td>\n",
              "      <td>4</td>\n",
              "      <td>3</td>\n",
              "      <td>143</td>\n",
              "      <td>0</td>\n",
              "    </tr>\n",
              "    <tr>\n",
              "      <th>15311</th>\n",
              "      <td>605</td>\n",
              "      <td>35</td>\n",
              "      <td>449.98</td>\n",
              "      <td>1</td>\n",
              "      <td>1</td>\n",
              "      <td>2</td>\n",
              "      <td>112</td>\n",
              "      <td>0</td>\n",
              "    </tr>\n",
              "    <tr>\n",
              "      <th>16029</th>\n",
              "      <td>605</td>\n",
              "      <td>8</td>\n",
              "      <td>3702.12</td>\n",
              "      <td>1</td>\n",
              "      <td>3</td>\n",
              "      <td>1</td>\n",
              "      <td>131</td>\n",
              "      <td>1</td>\n",
              "    </tr>\n",
              "    <tr>\n",
              "      <th>16098</th>\n",
              "      <td>605</td>\n",
              "      <td>12</td>\n",
              "      <td>430.60</td>\n",
              "      <td>1</td>\n",
              "      <td>3</td>\n",
              "      <td>2</td>\n",
              "      <td>132</td>\n",
              "      <td>0</td>\n",
              "    </tr>\n",
              "    <tr>\n",
              "      <th>16250</th>\n",
              "      <td>605</td>\n",
              "      <td>14</td>\n",
              "      <td>226.14</td>\n",
              "      <td>1</td>\n",
              "      <td>2</td>\n",
              "      <td>3</td>\n",
              "      <td>123</td>\n",
              "      <td>0</td>\n",
              "    </tr>\n",
              "    <tr>\n",
              "      <th>17420</th>\n",
              "      <td>605</td>\n",
              "      <td>7</td>\n",
              "      <td>130.85</td>\n",
              "      <td>1</td>\n",
              "      <td>3</td>\n",
              "      <td>4</td>\n",
              "      <td>134</td>\n",
              "      <td>0</td>\n",
              "    </tr>\n",
              "    <tr>\n",
              "      <th>17809</th>\n",
              "      <td>616</td>\n",
              "      <td>1</td>\n",
              "      <td>34.80</td>\n",
              "      <td>4</td>\n",
              "      <td>4</td>\n",
              "      <td>4</td>\n",
              "      <td>444</td>\n",
              "      <td>0</td>\n",
              "    </tr>\n",
              "    <tr>\n",
              "      <th>17850</th>\n",
              "      <td>605</td>\n",
              "      <td>45</td>\n",
              "      <td>725.44</td>\n",
              "      <td>1</td>\n",
              "      <td>1</td>\n",
              "      <td>1</td>\n",
              "      <td>111</td>\n",
              "      <td>2</td>\n",
              "    </tr>\n",
              "    <tr>\n",
              "      <th>18074</th>\n",
              "      <td>605</td>\n",
              "      <td>13</td>\n",
              "      <td>489.60</td>\n",
              "      <td>1</td>\n",
              "      <td>2</td>\n",
              "      <td>1</td>\n",
              "      <td>121</td>\n",
              "      <td>0</td>\n",
              "    </tr>\n",
              "  </tbody>\n",
              "</table>\n",
              "</div>"
            ],
            "text/plain": [
              "            recency  frequency  monetary_value  ...  m_quartile  RFMScore  Cluster_Id\n",
              "CustomerID                                      ...                                  \n",
              "12431           605          3          105.60  ...           4       134           0\n",
              "12583           605         20          855.86  ...           1       111           2\n",
              "13047           605         17          366.63  ...           3       123           0\n",
              "13748           605          1          204.00  ...           4       144           0\n",
              "14688           616         19          444.98  ...           2       412           0\n",
              "15100           605          1          350.40  ...           3       143           0\n",
              "15291           605          2          328.80  ...           3       143           0\n",
              "15311           605         35          449.98  ...           2       112           0\n",
              "16029           605          8         3702.12  ...           1       131           1\n",
              "16098           605         12          430.60  ...           2       132           0\n",
              "16250           605         14          226.14  ...           3       123           0\n",
              "17420           605          7          130.85  ...           4       134           0\n",
              "17809           616          1           34.80  ...           4       444           0\n",
              "17850           605         45          725.44  ...           1       111           2\n",
              "18074           605         13          489.60  ...           1       121           0\n",
              "\n",
              "[15 rows x 8 columns]"
            ]
          },
          "metadata": {
            "tags": []
          },
          "execution_count": 230
        }
      ]
    },
    {
      "cell_type": "code",
      "metadata": {
        "id": "nK5Pl5VrkV_9",
        "outputId": "fc86db31-0b5d-4b75-a882-3aba3bbda23e",
        "colab": {
          "base_uri": "https://localhost:8080/",
          "height": 352
        }
      },
      "source": [
        "# Box plot to visualize Cluster Id vs Frequency\n",
        "\n",
        "sns.boxplot(x='Cluster_Id', y='monetary_value', data=segmented_rfm)"
      ],
      "execution_count": 231,
      "outputs": [
        {
          "output_type": "execute_result",
          "data": {
            "text/plain": [
              "<matplotlib.axes._subplots.AxesSubplot at 0x7efbde2ff128>"
            ]
          },
          "metadata": {
            "tags": []
          },
          "execution_count": 231
        },
        {
          "output_type": "display_data",
          "data": {
            "image/png": "[encoded data removed]",
            "text/plain": [
              "<Figure size 360x360 with 1 Axes>"
            ]
          },
          "metadata": {
            "tags": [],
            "needs_background": "light"
          }
        }
      ]
    },
    {
      "cell_type": "code",
      "metadata": {
        "id": "BDTuTxwnliBI",
        "outputId": "2c5c52a8-3a79-48e8-e7e3-571413ee1f7b",
        "colab": {
          "base_uri": "https://localhost:8080/",
          "height": 352
        }
      },
      "source": [
        "# Box plot to visualize Cluster Id vs Frequency\n",
        "\n",
        "sns.boxplot(x='Cluster_Id', y='frequency', data=segmented_rfm)"
      ],
      "execution_count": 234,
      "outputs": [
        {
          "output_type": "execute_result",
          "data": {
            "text/plain": [
              "<matplotlib.axes._subplots.AxesSubplot at 0x7efbde18fda0>"
            ]
          },
          "metadata": {
            "tags": []
          },
          "execution_count": 234
        },
        {
          "output_type": "display_data",
          "data": {
            "image/png": "[encoded data removed]",
            "text/plain": [
              "<Figure size 360x360 with 1 Axes>"
            ]
          },
          "metadata": {
            "tags": [],
            "needs_background": "light"
          }
        }
      ]
    },
    {
      "cell_type": "code",
      "metadata": {
        "id": "wMgudKMwlklx",
        "outputId": "6cf1c692-4cc6-4dc8-f347-84c8bbb2f6a1",
        "colab": {
          "base_uri": "https://localhost:8080/",
          "height": 352
        }
      },
      "source": [
        "# Box plot to visualize Cluster Id vs Frequency\n",
        "\n",
        "sns.boxplot(x='Cluster_Id', y='recency', data=segmented_rfm)"
      ],
      "execution_count": 235,
      "outputs": [
        {
          "output_type": "execute_result",
          "data": {
            "text/plain": [
              "<matplotlib.axes._subplots.AxesSubplot at 0x7efbde118128>"
            ]
          },
          "metadata": {
            "tags": []
          },
          "execution_count": 235
        },
        {
          "output_type": "display_data",
          "data": {
            "image/png": "[encoded data removed]",
            "text/plain": [
              "<Figure size 360x360 with 1 Axes>"
            ]
          },
          "metadata": {
            "tags": [],
            "needs_background": "light"
          }
        }
      ]
    }
  ]
}